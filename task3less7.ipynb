{
 "cells": [
  {
   "cell_type": "markdown",
   "id": "af5b0984",
   "metadata": {},
   "source": [
    "Массив размером 2m + 1, где m — натуральное число, заполнен случайным образом. Найдите в массиве медиану. Медианой называется элемент ряда, делящий его на две равные части: в одной находятся элементы, которые не меньше медианы, в другой — не больше медианы."
   ]
  },
  {
   "cell_type": "code",
   "execution_count": 40,
   "id": "ebb6d08f",
   "metadata": {},
   "outputs": [
    {
     "name": "stdout",
     "output_type": "stream",
     "text": [
      "Сгенерированный массив: \n",
      "[-9, 6, -4, -1, 5, -4, -9, 6, -7, -7, 9, -4, -8, 9, 9, 0, 10, -5, -9, 4, 3]\n",
      "Медианой массива является число: -1\n"
     ]
    }
   ],
   "source": [
    "import random\n",
    "\n",
    "def med_func(array):\n",
    "    for i in range(len(array) - 1):\n",
    "        left = 0\n",
    "        right = 0\n",
    "        equal = 0\n",
    "        \n",
    "        for j in range(len(array)):\n",
    "            if i != j:\n",
    "                if array[i] > array[j]:\n",
    "                    left += 1\n",
    "                elif array[i] < array[j]:\n",
    "                    right += 1\n",
    "                elif array[i] == array[j]:\n",
    "                    equal += 1\n",
    "        \n",
    "        if left == right:\n",
    "            return array[i]\n",
    "        else:\n",
    "            if abs(left - right) - equal == 0:\n",
    "                return array[i]\n",
    "        \n",
    "\n",
    "size = 10\n",
    "array = [random.randint(-size, size) for i in range(2 * size + 1)]\n",
    "\n",
    "print('Сгенерированный массив: \\n{}'.format(array))\n",
    "print('Медианой массива является число: {}'.format(med_func(array)))\n"
   ]
  }
 ],
 "metadata": {
  "kernelspec": {
   "display_name": "Python 3",
   "language": "python",
   "name": "python3"
  },
  "language_info": {
   "codemirror_mode": {
    "name": "ipython",
    "version": 3
   },
   "file_extension": ".py",
   "mimetype": "text/x-python",
   "name": "python",
   "nbconvert_exporter": "python",
   "pygments_lexer": "ipython3",
   "version": "3.8.8"
  }
 },
 "nbformat": 4,
 "nbformat_minor": 5
}
