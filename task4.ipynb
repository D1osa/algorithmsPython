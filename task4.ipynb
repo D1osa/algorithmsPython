{
 "cells": [
  {
   "cell_type": "markdown",
   "id": "ce0591d1",
   "metadata": {},
   "source": [
    "4. Определить, какое число в массиве встречается чаще всего."
   ]
  },
  {
   "cell_type": "code",
   "execution_count": 1,
   "id": "f79534aa",
   "metadata": {},
   "outputs": [
    {
     "name": "stdout",
     "output_type": "stream",
     "text": [
      "Дан массив а: [48, 57, 46, 34, 2, 54, 41, 1, 88, 9, 82, 95, 2, 57, 72, 47, 40, 12, 94, 63, 68, 23, 23, 100, 3, 45, 39, 27, 32, 67, 43, 68, 6, 90, 38, 80, 82, 59, 37, 67, 87, 94, 40, 63, 68, 7, 40, 33, 65, 0, 98, 97, 42, 6, 24, 84, 5, 77, 65, 55, 96, 74, 54, 46, 76, 62, 45, 66, 31, 96, 65, 18, 61, 64, 67, 15, 4, 38, 71, 86, 27, 41, 15, 30, 24, 26, 78, 53, 57, 69, 43, 50, 90, 26, 4, 38, 71, 6, 73, 38]\n",
      "4 раз(а) встречается число 38\n"
     ]
    }
   ],
   "source": [
    "import random\n",
    "n = 100\n",
    "a = [random.randint(0, 100) for i in range(n)]\n",
    "print(f'Дан массив а: {a}')\n",
    "num = a[0]\n",
    "max_frq = 1\n",
    "for i in range(n):\n",
    "    frq = 1\n",
    "    for k in range(i+1, n):\n",
    "        if a[i] == a[k]:\n",
    "            frq += 1\n",
    "    if frq > max_frq:\n",
    "        max_frq = frq\n",
    "        num = a[i]\n",
    "\n",
    "if max_frq > 1:\n",
    "    print(max_frq, 'раз(а) встречается число', num)\n",
    "else:\n",
    "    print('Все элементы уникальны')"
   ]
  }
 ],
 "metadata": {
  "kernelspec": {
   "display_name": "Python 3",
   "language": "python",
   "name": "python3"
  },
  "language_info": {
   "codemirror_mode": {
    "name": "ipython",
    "version": 3
   },
   "file_extension": ".py",
   "mimetype": "text/x-python",
   "name": "python",
   "nbconvert_exporter": "python",
   "pygments_lexer": "ipython3",
   "version": "3.8.8"
  }
 },
 "nbformat": 4,
 "nbformat_minor": 5
}
