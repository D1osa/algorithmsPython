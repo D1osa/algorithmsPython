{
 "cells": [
  {
   "cell_type": "markdown",
   "id": "14a679cc",
   "metadata": {},
   "source": [
    "2. Посчитать четные и нечетные цифры введенного натурального числа. Например, если введено число 34560, в нем 3 четные цифры (4, 6 и 0) и 2 нечетные (3 и 5)."
   ]
  },
  {
   "cell_type": "code",
   "execution_count": 8,
   "id": "3b43f617",
   "metadata": {},
   "outputs": [
    {
     "name": "stdout",
     "output_type": "stream",
     "text": [
      "Введите число: 897654323456\n",
      "У числа 897654323456: четных цифр - 6, нечетных - 6 \n"
     ]
    }
   ],
   "source": [
    "number = input('Введите число: ')\n",
    "even = 0\n",
    "odd = 0\n",
    "for f in number:\n",
    "    i = int(f)\n",
    "    if i % 2 == 0:\n",
    "        even += 1\n",
    "    else:\n",
    "        odd += 1\n",
    "print(f'У числа {number}: четных цифр - {even}, нечетных - {odd} ')"
   ]
  }
 ],
 "metadata": {
  "kernelspec": {
   "display_name": "Python 3",
   "language": "python",
   "name": "python3"
  },
  "language_info": {
   "codemirror_mode": {
    "name": "ipython",
    "version": 3
   },
   "file_extension": ".py",
   "mimetype": "text/x-python",
   "name": "python",
   "nbconvert_exporter": "python",
   "pygments_lexer": "ipython3",
   "version": "3.8.8"
  }
 },
 "nbformat": 4,
 "nbformat_minor": 5
}
