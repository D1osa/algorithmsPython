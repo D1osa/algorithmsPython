{
 "cells": [
  {
   "cell_type": "markdown",
   "id": "a059e3c3",
   "metadata": {},
   "source": [
    "1. В диапазоне натуральных чисел от 2 до 99 определить, сколько из них кратны каждому из чисел в диапазоне от 2 до 9. Примечание: 8 разных ответов."
   ]
  },
  {
   "cell_type": "code",
   "execution_count": 1,
   "id": "64ac2c62",
   "metadata": {},
   "outputs": [
    {
     "name": "stdout",
     "output_type": "stream",
     "text": [
      "2  -  49\n",
      "3  -  33\n",
      "4  -  24\n",
      "5  -  19\n",
      "6  -  16\n",
      "7  -  14\n",
      "8  -  12\n",
      "9  -  11\n"
     ]
    }
   ],
   "source": [
    "list_1 = [0] * 8\n",
    "for i in range(2, 100):\n",
    "    for j in range(2, 10):\n",
    "        if i % j == 0:\n",
    "            list_1[j - 2] += 1\n",
    "i = 0            \n",
    "while i < len(list_1):\n",
    "    print(i + 2, ' - ', list_1[i])\n",
    "    i += 1"
   ]
  }
 ],
 "metadata": {
  "kernelspec": {
   "display_name": "Python 3",
   "language": "python",
   "name": "python3"
  },
  "language_info": {
   "codemirror_mode": {
    "name": "ipython",
    "version": 3
   },
   "file_extension": ".py",
   "mimetype": "text/x-python",
   "name": "python",
   "nbconvert_exporter": "python",
   "pygments_lexer": "ipython3",
   "version": "3.8.8"
  }
 },
 "nbformat": 4,
 "nbformat_minor": 5
}
