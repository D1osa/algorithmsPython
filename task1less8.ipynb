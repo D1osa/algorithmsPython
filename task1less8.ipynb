{
 "cells": [
  {
   "cell_type": "markdown",
   "id": "96c6e9fe",
   "metadata": {},
   "source": [
    "На улице встретились N друзей. Каждый пожал руку всем остальным друзьям (по одному разу). Сколько рукопожатий было?"
   ]
  },
  {
   "cell_type": "code",
   "execution_count": 65,
   "id": "c79c774c",
   "metadata": {},
   "outputs": [
    {
     "name": "stdout",
     "output_type": "stream",
     "text": [
      "Введите количество друзей, которые встретились: 5\n",
      "При встрече 5 друзей будет 10 рукопожатий\n"
     ]
    }
   ],
   "source": [
    "from functools import reduce\n",
    "\n",
    "n = int(input('Введите количество друзей, которые встретились: '))\n",
    "graph = [[int(i > j) for i in range(n)] for j in range(n)]\n",
    "count = reduce(lambda acc, x: acc + sum(x), graph, 0)\n",
    "print(f'При встрече {n} друзей будет {count} рукопожатий')"
   ]
  }
 ],
 "metadata": {
  "kernelspec": {
   "display_name": "Python 3",
   "language": "python",
   "name": "python3"
  },
  "language_info": {
   "codemirror_mode": {
    "name": "ipython",
    "version": 3
   },
   "file_extension": ".py",
   "mimetype": "text/x-python",
   "name": "python",
   "nbconvert_exporter": "python",
   "pygments_lexer": "ipython3",
   "version": "3.8.8"
  }
 },
 "nbformat": 4,
 "nbformat_minor": 5
}
