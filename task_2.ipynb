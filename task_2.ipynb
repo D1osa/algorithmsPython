{
 "cells": [
  {
   "cell_type": "markdown",
   "id": "0af9f851",
   "metadata": {},
   "source": [
    "2. По введенным пользователем координатам двух точек вывести уравнение прямой вида y = kx + b, проходящей через эти точки."
   ]
  },
  {
   "cell_type": "code",
   "execution_count": 28,
   "id": "3bc44048",
   "metadata": {},
   "outputs": [
    {
     "name": "stdout",
     "output_type": "stream",
     "text": [
      "Введите х_1: 2\n",
      "Введите y_1: 4\n",
      "Введите х_2: 6\n",
      "Введите y_2: 8\n",
      "Уравнение прямой имеет вид: y = 1.0*x + 2.0\n"
     ]
    }
   ],
   "source": [
    "x_1 = int(input('Введите х_1: '))\n",
    "y_1 = int(input('Введите y_1: '))\n",
    "x_2 = int(input('Введите х_2: '))\n",
    "y_2 = int(input('Введите y_2: '))\n",
    "print ('Уравнение прямой имеет вид: y = ' + str((y_2 - y_1)/(x_2 - x_1)) + '*x' + \n",
    "       ' + ' + str(y_1 + ( - x_1 / (x_2 - x_1) * (y_2 - y_1))))"
   ]
  }
 ],
 "metadata": {
  "kernelspec": {
   "display_name": "Python 3",
   "language": "python",
   "name": "python3"
  },
  "language_info": {
   "codemirror_mode": {
    "name": "ipython",
    "version": 3
   },
   "file_extension": ".py",
   "mimetype": "text/x-python",
   "name": "python",
   "nbconvert_exporter": "python",
   "pygments_lexer": "ipython3",
   "version": "3.8.8"
  }
 },
 "nbformat": 4,
 "nbformat_minor": 5
}
