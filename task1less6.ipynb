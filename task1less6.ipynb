{
 "cells": [
  {
   "cell_type": "code",
   "execution_count": null,
   "id": "2906786e",
   "metadata": {},
   "outputs": [],
   "source": [
    "#Python 3.8.8\n",
    "#x86-64, ARM, macOS Monterey\n",
    "\n",
    "import sys\n",
    "import random\n",
    "\n",
    "matrix = []\n",
    "\n",
    "for i in range(15):\n",
    "    matrix.append([])\n",
    "    matrix[i].extend([random.randint(0, 99) for _ in range(15)])\n",
    "\n",
    "\n",
    "min_list = []\n",
    "min_list.extend(matrix[0])\n",
    "\n",
    "for string in matrix:\n",
    "    print()\n",
    "    print(('{:4d} ' * len(string)).format(*string))\n",
    "    i = 0\n",
    "    for j in string:\n",
    "        if j < min_list[i]:\n",
    "            min_list[i] = j\n",
    "        i += 1\n",
    "\n",
    "print()\n",
    "print('min_list')\n",
    "print(('{:4d} ' * len(min_list)).format(*min_list))\n",
    "print()\n",
    "\n",
    "min_list.sort(reverse=True)\n",
    "print(\n",
    "        'Максимальный элемент среди минимальных элементов столбцов матрицы: ',\n",
    "        min_list[0]\n",
    "            )\n",
    "\n",
    "sum_size = 0\n",
    "sum_size += sys.getsizeof(matrix)\n",
    "sum_size += sys.getsizeof(min_list)\n",
    "sum_size += sys.getsizeof(i)\n",
    "sum_size += sys.getsizeof(string)\n",
    "sum_size += sys.getsizeof(j)\n",
    "\n",
    "print('Переменные занимают', sum_size)\n"
   ]
  }
 ],
 "metadata": {
  "kernelspec": {
   "display_name": "Python 3",
   "language": "python",
   "name": "python3"
  },
  "language_info": {
   "codemirror_mode": {
    "name": "ipython",
    "version": 3
   },
   "file_extension": ".py",
   "mimetype": "text/x-python",
   "name": "python",
   "nbconvert_exporter": "python",
   "pygments_lexer": "ipython3",
   "version": "3.8.8"
  }
 },
 "nbformat": 4,
 "nbformat_minor": 5
}
