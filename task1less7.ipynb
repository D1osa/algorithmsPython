{
 "cells": [
  {
   "cell_type": "markdown",
   "id": "21b0d597",
   "metadata": {},
   "source": [
    "Отсортируйте по убыванию методом пузырька одномерный целочисленный массив, заданный случайными числами на промежутке [-100; 100). Выведите на экран исходный и отсортированный массивы."
   ]
  },
  {
   "cell_type": "code",
   "execution_count": 41,
   "id": "2382edd7",
   "metadata": {},
   "outputs": [
    {
     "name": "stdout",
     "output_type": "stream",
     "text": [
      "[-32, -23, -41, 66, -57, 86, -65, 77, -97, -7]\n"
     ]
    }
   ],
   "source": [
    "from random import randint\n",
    "size = 10\n",
    "array = []\n",
    "for i in range(size):\n",
    "    array.append(randint(-100, 100))\n",
    "print(array)"
   ]
  },
  {
   "cell_type": "code",
   "execution_count": 44,
   "id": "c6fb460d",
   "metadata": {},
   "outputs": [
    {
     "name": "stdout",
     "output_type": "stream",
     "text": [
      "[86, 77, 66, -7, -23, -32, -41, -57, -65, -97]\n"
     ]
    }
   ],
   "source": [
    "def bubble_sort(array):\n",
    "    for i in range(size - 1):\n",
    "        for j in range(size - i - 1):\n",
    "            if array[j] > array[j + 1]:\n",
    "                array[j], array[j + 1] = array[j + 1], array[j]    \n",
    "bubble_sort(array)\n",
    "array.reverse()\n",
    "print(array) "
   ]
  }
 ],
 "metadata": {
  "kernelspec": {
   "display_name": "Python 3",
   "language": "python",
   "name": "python3"
  },
  "language_info": {
   "codemirror_mode": {
    "name": "ipython",
    "version": 3
   },
   "file_extension": ".py",
   "mimetype": "text/x-python",
   "name": "python",
   "nbconvert_exporter": "python",
   "pygments_lexer": "ipython3",
   "version": "3.8.8"
  }
 },
 "nbformat": 4,
 "nbformat_minor": 5
}
