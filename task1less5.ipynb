{
 "cells": [
  {
   "cell_type": "markdown",
   "id": "19c34887",
   "metadata": {},
   "source": [
    "Пользователь вводит данные о количестве предприятий, их наименования и прибыль за четыре квартала для каждого предприятия. Программа должна определить среднюю прибыль (за год для всех предприятий) и отдельно вывести наименования предприятий, чья прибыль выше среднего и ниже среднего."
   ]
  },
  {
   "cell_type": "code",
   "execution_count": 1,
   "id": "7158cc4c",
   "metadata": {},
   "outputs": [
    {
     "name": "stdout",
     "output_type": "stream",
     "text": [
      "Введите количество предприятий: 4\n",
      "Введите название 1 предприятий: ф\n",
      "Введите прибыль предприятия 1 для 1 квартала: 12346889\n",
      "Введите прибыль предприятия 1 для 2 квартала: 9483765\n",
      "Введите прибыль предприятия 1 для 3 квартала: 73645\n",
      "Введите прибыль предприятия 1 для 4 квартала: 4765\n",
      "Введите название 2 предприятий: в\n",
      "Введите прибыль предприятия 2 для 1 квартала: 384765\n",
      "Введите прибыль предприятия 2 для 2 квартала: 398475\n",
      "Введите прибыль предприятия 2 для 3 квартала: 39847546\n",
      "Введите прибыль предприятия 2 для 4 квартала: 394875\n",
      "Введите название 3 предприятий: с\n",
      "Введите прибыль предприятия 3 для 1 квартала: 27498572\n",
      "Введите прибыль предприятия 3 для 2 квартала: 8357446\n",
      "Введите прибыль предприятия 3 для 3 квартала: 394865\n",
      "Введите прибыль предприятия 3 для 4 квартала: 2387456\n",
      "Введите название 4 предприятий: о\n",
      "Введите прибыль предприятия 4 для 1 квартала: 938465\n",
      "Введите прибыль предприятия 4 для 2 квартала: 26345\n",
      "Введите прибыль предприятия 4 для 3 квартала: 576834\n",
      "Введите прибыль предприятия 4 для 4 квартала: 37465876\n",
      "\n",
      "\n",
      "Все предприятия и их средняя прибыль за год: \n",
      "ф: 5477266$,  с: 9659584$,  о: 9751880$,  в: 10256415$, \n",
      "Средняя прибыль среди всех предприятий за год = 8786286$\n",
      "\n",
      "Предприятия, чья прибыль больше средней(для всех предприятий) за год: с: 9659584$, о: 9751880$, в: 10256415$\n",
      "\n",
      "Предриятия, чья прибыль ниже средней(для всех предприятий) за год: ф: 5477266$\n"
     ]
    }
   ],
   "source": [
    "import collections\n",
    "\n",
    "count_company = int(input('Введите количество предприятий: '))\n",
    "\n",
    "company_dict = {input(f'Введите название {i} предприятий: '):\n",
    "                    int(sum([int(input(f'Введите прибыль предприятия {i} для {j} квартала: ')) for j in range(1, 5)])/4)\n",
    "                for i in range(1, count_company + 1)}\n",
    "company_dict = collections.OrderedDict(sorted(company_dict.items(), key=lambda x: x[1]))\n",
    "\n",
    "middle = 0\n",
    "for company_name in company_dict:\n",
    "    middle += company_dict[company_name]\n",
    "middle = int(middle/len(company_dict))\n",
    "\n",
    "print(f'\\n\\nВсе предприятия и их средняя прибыль за год: ')\n",
    "print(*list(f'{company_name}: {company_dict[company_name]}$, ' for company_name in company_dict))\n",
    "print(f'Средняя прибыль среди всех предприятий за год = {middle}$')\n",
    "\n",
    "print('\\nПредприятия, чья прибыль больше средней(для всех предприятий) за год: ', end='')\n",
    "print(*list(f'{company_name}: {company_dict[company_name]}$'\n",
    "            for company_name in company_dict if company_dict[company_name] > middle), sep=', ')\n",
    "\n",
    "print('\\nПредриятия, чья прибыль ниже средней(для всех предприятий) за год: ', end='')\n",
    "print(*list(f'{company_name}: {company_dict[company_name]}$'\n",
    "            for company_name in company_dict if company_dict[company_name] < middle), sep=', ')"
   ]
  },
  {
   "cell_type": "code",
   "execution_count": null,
   "id": "cef6b36e",
   "metadata": {},
   "outputs": [],
   "source": []
  }
 ],
 "metadata": {
  "kernelspec": {
   "display_name": "Python 3",
   "language": "python",
   "name": "python3"
  },
  "language_info": {
   "codemirror_mode": {
    "name": "ipython",
    "version": 3
   },
   "file_extension": ".py",
   "mimetype": "text/x-python",
   "name": "python",
   "nbconvert_exporter": "python",
   "pygments_lexer": "ipython3",
   "version": "3.8.8"
  }
 },
 "nbformat": 4,
 "nbformat_minor": 5
}
