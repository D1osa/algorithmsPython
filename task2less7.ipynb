{
 "cells": [
  {
   "cell_type": "markdown",
   "id": "b69deca7",
   "metadata": {},
   "source": [
    "Отсортируйте по возрастанию методом слияния одномерный вещественный массив, заданный случайными числами на промежутке [0; 50). Выведите на экран исходный и отсортированный массивы."
   ]
  },
  {
   "cell_type": "code",
   "execution_count": 26,
   "id": "3bd67e5b",
   "metadata": {},
   "outputs": [
    {
     "name": "stdout",
     "output_type": "stream",
     "text": [
      "[19, 43, 8, 6, 23, 15, 4, 19, 34, 44]\n",
      "[4, 6, 8, 15, 19, 19, 23, 34, 43, 44]\n"
     ]
    }
   ],
   "source": [
    "from random import randint\n",
    "\n",
    "\n",
    "def merge_two_sort(a, b):\n",
    "    c = []\n",
    "    i = j = 0\n",
    "    while i < len(a) and j < len(b):\n",
    "        if a[i] < b[j]:\n",
    "            c.append(a[i])\n",
    "            i += 1\n",
    "        else:\n",
    "            c.append(b[j])\n",
    "            j += 1\n",
    "    if i < len(a):\n",
    "        c += a[i:]\n",
    "    if j < len(b):\n",
    "        c += b[j:]\n",
    "    return c\n",
    "\n",
    "def merge_sort(s):\n",
    "    if len(s) == 1:\n",
    "        return s\n",
    "    middle = len(s) // 2\n",
    "    left = merge_sort(s[:middle])\n",
    "    right = merge_sort(s[middle:])\n",
    "    return merge_two_sort(left, right)\n",
    "\n",
    "\n",
    "array = []\n",
    "for i in range(10):\n",
    "    array.append(randint(0, 50))\n",
    "    \n",
    "print(array)\n",
    "print(merge_sort(array))"
   ]
  }
 ],
 "metadata": {
  "kernelspec": {
   "display_name": "Python 3",
   "language": "python",
   "name": "python3"
  },
  "language_info": {
   "codemirror_mode": {
    "name": "ipython",
    "version": 3
   },
   "file_extension": ".py",
   "mimetype": "text/x-python",
   "name": "python",
   "nbconvert_exporter": "python",
   "pygments_lexer": "ipython3",
   "version": "3.8.8"
  }
 },
 "nbformat": 4,
 "nbformat_minor": 5
}
