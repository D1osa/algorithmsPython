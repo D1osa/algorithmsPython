{
 "cells": [
  {
   "cell_type": "markdown",
   "id": "83fd02ed",
   "metadata": {},
   "source": [
    "1. Выполнить логические побитовые операции «И», «ИЛИ» и др. над числами 5 и 6. Выполнить над числом 5 побитовый сдвиг вправо и влево на два знака."
   ]
  },
  {
   "cell_type": "code",
   "execution_count": 13,
   "id": "a14408fe",
   "metadata": {},
   "outputs": [
    {
     "name": "stdout",
     "output_type": "stream",
     "text": [
      "Логическое И для 5 и 6 равно 4\n",
      "Логическое ИЛИ для 5 и 6 равно 7\n",
      "Исключающее ИЛИ для 5 и 6 равно 3\n"
     ]
    }
   ],
   "source": [
    "a = 5\n",
    "b = 6\n",
    "a_and_b = a & b\n",
    "print('Логическое И для 5 и 6 равно', a_and_b)\n",
    "a_or_b = a | b\n",
    "print('Логическое ИЛИ для 5 и 6 равно', a_or_b)\n",
    "a_xor_b = a ^ b\n",
    "print('Исключающее ИЛИ для 5 и 6 равно', a_xor_b)"
   ]
  },
  {
   "cell_type": "code",
   "execution_count": 16,
   "id": "4bffd5e6",
   "metadata": {},
   "outputs": [
    {
     "name": "stdout",
     "output_type": "stream",
     "text": [
      "Побитовый сдвиг вправо на 2 знака = 1\n",
      "Побитовый сдвиг влево на 2 знака = 20\n"
     ]
    }
   ],
   "source": [
    "print ('Побитовый сдвиг вправо на 2 знака = ' + str(a >> 2) +'\\n' + \n",
    "       'Побитовый сдвиг влево на 2 знака = ' + str(a << 2))"
   ]
  }
 ],
 "metadata": {
  "kernelspec": {
   "display_name": "Python 3",
   "language": "python",
   "name": "python3"
  },
  "language_info": {
   "codemirror_mode": {
    "name": "ipython",
    "version": 3
   },
   "file_extension": ".py",
   "mimetype": "text/x-python",
   "name": "python",
   "nbconvert_exporter": "python",
   "pygments_lexer": "ipython3",
   "version": "3.8.8"
  }
 },
 "nbformat": 4,
 "nbformat_minor": 5
}
