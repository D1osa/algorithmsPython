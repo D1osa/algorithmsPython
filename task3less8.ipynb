{
 "cells": [
  {
   "cell_type": "markdown",
   "id": "e41688f4",
   "metadata": {},
   "source": [
    "Написать программу, которая обходит не взвешенный ориентированный граф без петель, в котором все вершины связаны, по алгоритму поиска в глубину (Depth-First Search)."
   ]
  },
  {
   "cell_type": "code",
   "execution_count": 100,
   "id": "977d81b1",
   "metadata": {},
   "outputs": [
    {
     "name": "stdout",
     "output_type": "stream",
     "text": [
      "Введите число вершин: 4\n",
      "Начальная вершина: 0\n",
      "Исходный граф:  [[2, 3, 1], [2], [1], [2, 1]]\n",
      "Обход графа:  [0, 2, 1, 3]\n"
     ]
    }
   ],
   "source": [
    "import random\n",
    "\n",
    "def graph_func(n):\n",
    "    result = []\n",
    "    all_nodes = {i for i in range(n)}\n",
    "    for i in range(n):\n",
    "        result.append(random.sample(list(all_nodes - {i}), random.randint(1, n - 1)))\n",
    "    return result\n",
    "\n",
    "def dfs(graph, node, visited = []):\n",
    "    if node not in visited:\n",
    "        visited.append(node)\n",
    "        for c in graph[node]:\n",
    "            dfs(graph, c, visited)\n",
    "    return visited\n",
    "\n",
    "n = int(input('Введите число вершин: '))\n",
    "start = int(input('Начальная вершина: '))\n",
    "graph = graph_func(n)\n",
    "print('Исходный граф: ', graph)\n",
    "print('Обход графа: ', dfs(graph, start))"
   ]
  }
 ],
 "metadata": {
  "kernelspec": {
   "display_name": "Python 3",
   "language": "python",
   "name": "python3"
  },
  "language_info": {
   "codemirror_mode": {
    "name": "ipython",
    "version": 3
   },
   "file_extension": ".py",
   "mimetype": "text/x-python",
   "name": "python",
   "nbconvert_exporter": "python",
   "pygments_lexer": "ipython3",
   "version": "3.8.8"
  }
 },
 "nbformat": 4,
 "nbformat_minor": 5
}
