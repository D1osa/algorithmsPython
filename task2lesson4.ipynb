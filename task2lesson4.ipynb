{
 "cells": [
  {
   "cell_type": "markdown",
   "id": "3d4d3227",
   "metadata": {},
   "source": [
    "Написать два алгоритма нахождения i-го по счёту простого числа. Функция нахождения простого числа должна принимать на вход натуральное и возвращать соответствующее простое число. Проанализировать скорость и сложность алгоритмов."
   ]
  },
  {
   "cell_type": "code",
   "execution_count": 12,
   "id": "7dba40c3",
   "metadata": {},
   "outputs": [
    {
     "name": "stdout",
     "output_type": "stream",
     "text": [
      "Ваше 40 простое число = 173\n"
     ]
    }
   ],
   "source": [
    "#1 без решета\n",
    "def find_simple_num(index):\n",
    "    num = 3\n",
    "    simple_nums = [2]\n",
    "    nums = [2]\n",
    "    while True:\n",
    "        if len(simple_nums) == index:\n",
    "            print(f'Ваше {index} простое число = {simple_nums[index-1]}')\n",
    "            break\n",
    "        else:\n",
    "            for i in nums:\n",
    "                if num % i == 0:\n",
    "                    nums.append(num)\n",
    "                    break\n",
    "            else:\n",
    "                nums.append(num)\n",
    "                simple_nums.append(num)\n",
    "        num += 1\n",
    "find_simple_num(40) #100\n",
    "\n",
    "#python -m timeit -n 100 -s \"import main\" \"main.find_simple_num(40)\"\n",
    "#100 loops, best of 5: 239 usec per loop\n",
    "\n",
    "# Ваше 40 простое число = 173\n",
    "#          387 function calls in 0.000 seconds\n",
    "\n",
    "#    Ordered by: standard name\n",
    "\n",
    "#    ncalls  tottime  percall  cumtime  percall filename:lineno(function)\n",
    "#         1    0.000    0.000    0.000    0.000 main.py:1(<module>)\n",
    "#         1    0.000    0.000    0.000    0.000 main.py:1(find_simple_num)\n",
    "#         1    0.000    0.000    0.000    0.000 {built-in method builtins.exec}\n",
    "#       172    0.000    0.000    0.000    0.000 {built-in method builtins.len}\n",
    "#         1    0.000    0.000    0.000    0.000 {built-in method builtins.print}\n",
    "#       210    0.000    0.000    0.000    0.000 {method 'append' of 'list' objects}\n",
    "#         1    0.000    0.000    0.000    0.000 {method 'disable' of '_lsprof.Profiler' objects}\n",
    "\n",
    "#python -m timeit -n 100 -s \"import main\" \"main.find_simple_num(100)\"\n",
    "#100 loops, best of 5: 1.57 msec per loop\n",
    "\n",
    "# Ваше 100 простое число = 541\n",
    "#          1183 function calls in 0.002 seconds\n",
    "\n",
    "#    Ordered by: standard name\n",
    "\n",
    "#    ncalls  tottime  percall  cumtime  percall filename:lineno(function)\n",
    "#         1    0.000    0.000    0.002    0.002 main.py:1(<module>)\n",
    "#         1    0.002    0.002    0.002    0.002 main.py:1(find_simple_num)\n",
    "#         1    0.000    0.000    0.002    0.002 {built-in method builtins.exec}\n",
    "#       540    0.000    0.000    0.000    0.000 {built-in method builtins.len}\n",
    "#         1    0.000    0.000    0.000    0.000 {built-in method builtins.print}\n",
    "#       638    0.000    0.000    0.000    0.000 {method 'append' of 'list' objects}\n",
    "#         1    0.000    0.000    0.000    0.000 {method 'disable' of '_lsprof.Profiler' objects}"
   ]
  },
  {
   "cell_type": "code",
   "execution_count": 15,
   "id": "fbfb2c73",
   "metadata": {},
   "outputs": [
    {
     "name": "stdout",
     "output_type": "stream",
     "text": [
      "Искомое простое число = 173\n"
     ]
    }
   ],
   "source": [
    "#2 решето\n",
    "def sieve(n):\n",
    "    primes = []\n",
    "    nums = [i for i in range(2, 1000)]\n",
    " \n",
    "    for i in nums:\n",
    "        if i != 0:\n",
    "            primes.append(i)\n",
    "            for j in nums[i:]:\n",
    "                if j % i == 0:\n",
    "                    nums[j - 2] = 0\n",
    "    print(f'Искомое простое число = {primes[n - 1]}')\n",
    "sieve(40) #100\n",
    "\n",
    "#python -m timeit -n 100 -s \"import main\" \"main.sieve(40)\"\n",
    "#100 loops, best of 5: 12.1 msec per loop\n",
    "\n",
    "# Искомое простое число = 173\n",
    "#          174 function calls in 0.011 seconds\n",
    "\n",
    "#    Ordered by: standard name\n",
    "\n",
    "#    ncalls  tottime  percall  cumtime  percall filename:lineno(function)\n",
    "#         1    0.000    0.000    0.011    0.011 main.py:1(<module>)\n",
    "#         1    0.011    0.011    0.011    0.011 main.py:1(sieve)\n",
    "#         1    0.000    0.000    0.000    0.000 main.py:3(<listcomp>)\n",
    "#         1    0.000    0.000    0.011    0.011 {built-in method builtins.exec}\n",
    "#         1    0.000    0.000    0.000    0.000 {built-in method builtins.print}\n",
    "#       168    0.000    0.000    0.000    0.000 {method 'append' of 'list' objects}\n",
    "#         1    0.000    0.000    0.000    0.000 {method 'disable' of '_lsprof.Profiler' objects}\n",
    "\n",
    "\n",
    "#python -m timeit -n 100 -s \"import main\" \"main.sieve(100)\"\n",
    "#100 loops, best of 5: 12.1 msec per loop\n",
    "\n",
    "# Искомое простое число = 541\n",
    "#          174 function calls in 0.011 seconds\n",
    "\n",
    "#    Ordered by: standard name\n",
    "\n",
    "#    ncalls  tottime  percall  cumtime  percall filename:lineno(function)\n",
    "#         1    0.000    0.000    0.011    0.011 main.py:1(<module>)\n",
    "#         1    0.011    0.011    0.011    0.011 main.py:1(sieve)\n",
    "#         1    0.000    0.000    0.000    0.000 main.py:3(<listcomp>)\n",
    "#         1    0.000    0.000    0.011    0.011 {built-in method builtins.exec}\n",
    "#         1    0.000    0.000    0.000    0.000 {built-in method builtins.print}\n",
    "#       168    0.000    0.000    0.000    0.000 {method 'append' of 'list' objects}\n",
    "#         1    0.000    0.000    0.000    0.000 {method 'disable' of '_lsprof.Profiler' objects}"
   ]
  }
 ],
 "metadata": {
  "kernelspec": {
   "display_name": "Python 3",
   "language": "python",
   "name": "python3"
  },
  "language_info": {
   "codemirror_mode": {
    "name": "ipython",
    "version": 3
   },
   "file_extension": ".py",
   "mimetype": "text/x-python",
   "name": "python",
   "nbconvert_exporter": "python",
   "pygments_lexer": "ipython3",
   "version": "3.8.8"
  }
 },
 "nbformat": 4,
 "nbformat_minor": 5
}
