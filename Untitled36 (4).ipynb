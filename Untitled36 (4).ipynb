{
 "cells": [
  {
   "cell_type": "markdown",
   "id": "f5d84254",
   "metadata": {},
   "source": [
    "5. Пользователь вводит номер буквы в алфавите. Определить, какая это буква."
   ]
  },
  {
   "cell_type": "code",
   "execution_count": 1,
   "id": "a9746bef",
   "metadata": {},
   "outputs": [
    {
     "name": "stdout",
     "output_type": "stream",
     "text": [
      "Введите номер буквы от 1 до 26: 4\n",
      "d\n"
     ]
    }
   ],
   "source": [
    "number = int(input('Введите номер буквы от 1 до 26: '))\n",
    "print(chr(number+96))"
   ]
  }
 ],
 "metadata": {
  "kernelspec": {
   "display_name": "Python 3",
   "language": "python",
   "name": "python3"
  },
  "language_info": {
   "codemirror_mode": {
    "name": "ipython",
    "version": 3
   },
   "file_extension": ".py",
   "mimetype": "text/x-python",
   "name": "python",
   "nbconvert_exporter": "python",
   "pygments_lexer": "ipython3",
   "version": "3.8.8"
  }
 },
 "nbformat": 4,
 "nbformat_minor": 5
}
