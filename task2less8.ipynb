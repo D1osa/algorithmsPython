{
 "cells": [
  {
   "cell_type": "markdown",
   "id": "42fb9329",
   "metadata": {},
   "source": [
    "Доработать алгоритм Дейкстры (рассматривался на уроке), чтобы он дополнительно возвращал список вершин, которые необходимо обойти."
   ]
  },
  {
   "cell_type": "code",
   "execution_count": 81,
   "id": "43882ef8",
   "metadata": {},
   "outputs": [
    {
     "name": "stdout",
     "output_type": "stream",
     "text": [
      "От какой вершины считать? 4\n",
      "Путь от вершины 4 до вершины 0: [4, 0], а стоимость: 4 условных единиц\n",
      "Путь от вершины 4 до вершины 1: [4, 1], а стоимость: 1 условных единиц\n",
      "Путь от вершины 4 до вершины 2: [4, 2], а стоимость: 2 условных единиц\n",
      "Путь от вершины 4 до вершины 3: [4, 2, 3], а стоимость: 3 условных единиц\n"
     ]
    }
   ],
   "source": [
    "from collections import deque\n",
    "graph = [[2, 3, 1, 4, 0],\n",
    "        [3, 1, 6, 8, 1],\n",
    "        [9, 2, 0, 1, 1],\n",
    "        [2, 1, 0, 6, 4],\n",
    "        [4, 1, 2, 0, 3]\n",
    "        ]\n",
    "\n",
    "def dijkstra(graph, start):\n",
    "    lenght = len(graph)\n",
    "    is_visited = lenght * [False]\n",
    "    cost = [float('inf')] * lenght\n",
    "    parent = [-1] * lenght\n",
    "    cost[start] = 0\n",
    "    min_cost = 0\n",
    "    path = [None] * lenght\n",
    "    path_start = start\n",
    "   \n",
    "    while min_cost < float('inf'):\n",
    "        is_visited[start] = True\n",
    "        for i, vertex in enumerate(graph[start]):\n",
    "            if vertex != 0 and not is_visited[i]:\n",
    "                if cost[i] > vertex + cost[start]:\n",
    "                    cost[i] = vertex + cost[start]\n",
    "                    parent[i] = start\n",
    "        min_cost = float('inf')\n",
    "        for i in range(lenght):\n",
    "            if min_cost > cost[i] and not is_visited[i]:\n",
    "                min_cost = cost[i]\n",
    "                start = i\n",
    "    \n",
    "    for i in range(lenght):\n",
    "        if i != path_start:\n",
    "            node = i\n",
    "            if parent[node] == -1:\n",
    "                path[i] = deque([f\"Пути от вершины {s} до вершины {node} не существует\"])\n",
    "            else:\n",
    "                path[i] = deque([node])\n",
    "                while True:\n",
    "                    path[i].appendleft(parent[node])\n",
    "                    if parent[node] == path_start:\n",
    "                        break\n",
    "                    node = parent[node]\n",
    "\n",
    "    return cost, path\n",
    "\n",
    "s = int(input(\"От какой вершины считать? \"))\n",
    "cost, path = dijkstra(graph, s)\n",
    "\n",
    "\n",
    "for i in range(len(graph)):\n",
    "    if i != s:\n",
    "        print(f\"Путь от вершины {s} до вершины {i}: {list(path[i])}, а стоимость: {cost[i]} условных единиц\")"
   ]
  }
 ],
 "metadata": {
  "kernelspec": {
   "display_name": "Python 3",
   "language": "python",
   "name": "python3"
  },
  "language_info": {
   "codemirror_mode": {
    "name": "ipython",
    "version": 3
   },
   "file_extension": ".py",
   "mimetype": "text/x-python",
   "name": "python",
   "nbconvert_exporter": "python",
   "pygments_lexer": "ipython3",
   "version": "3.8.8"
  }
 },
 "nbformat": 4,
 "nbformat_minor": 5
}
