{
 "cells": [
  {
   "cell_type": "markdown",
   "id": "3077926f",
   "metadata": {},
   "source": [
    "Закодируйте любую строку по алгоритму Хаффмана."
   ]
  },
  {
   "cell_type": "code",
   "execution_count": 112,
   "id": "d15f3198",
   "metadata": {},
   "outputs": [
    {
     "name": "stdout",
     "output_type": "stream",
     "text": [
      "Введите строку: fbknlwhierf sdoj skdjc\n",
      "16 88\n",
      " : 1100\n",
      "b: 0000\n",
      "c: 1001\n",
      "d: 1110\n",
      "e: 0110\n",
      "f: 1010\n",
      "h: 0100\n",
      "i: 0101\n",
      "j: 1111\n",
      "k: 1011\n",
      "l: 0010\n",
      "n: 0001\n",
      "o: 1000\n",
      "r: 0111\n",
      "s: 1101\n",
      "w: 0011\n",
      "1010000010110001001000110100010101100111101011001101111010001111110011011011111011111001\n"
     ]
    }
   ],
   "source": [
    "import heapq\n",
    "from collections import Counter\n",
    "from collections import namedtuple\n",
    "\n",
    "class Node(namedtuple('Node', ['left', 'right'])):\n",
    "    def walk(self, code, acc):\n",
    "        self.left.walk(code, acc + '0')\n",
    "        self.right.walk(code, acc + '1')\n",
    "        \n",
    "class Leaf(namedtuple('Leaf', ['char'])):\n",
    "    def walk(self, code, acc):\n",
    "        code[self.char] = acc or '0'\n",
    "        \n",
    "def huffman_encode(s):\n",
    "    h = []\n",
    "    for ch, freq in Counter(s).items():\n",
    "        h.append((freq, len(h), Leaf(ch)))\n",
    "    heapq.heapify(h)\n",
    "    count = len(h)\n",
    "    while len(h) > 1:\n",
    "        freq1, _count1, left = heapq.heappop(h)\n",
    "        freq2, _count2, right = heapq.heappop(h)\n",
    "        heapq.heappush(h, (freq1 + freq2, count, Node(left, right)))\n",
    "        count += 1\n",
    "        \n",
    "    code = {}\n",
    "    if h:\n",
    "        [(_freq, _count, root)] = h\n",
    "        root.walk(code, '')\n",
    "    return code\n",
    "\n",
    "def main():\n",
    "    s = input('Введите строку: ')\n",
    "    code = huffman_encode(s)\n",
    "    encoded = ''.join(code[ch] for ch in s)\n",
    "    print(len(code), len(encoded))\n",
    "    for ch in sorted(code):\n",
    "        print('{}: {}'. format(ch, code[ch]))\n",
    "    print(encoded)\n",
    "    \n",
    "if __name__ == '__main__':\n",
    "    main()"
   ]
  }
 ],
 "metadata": {
  "kernelspec": {
   "display_name": "Python 3",
   "language": "python",
   "name": "python3"
  },
  "language_info": {
   "codemirror_mode": {
    "name": "ipython",
    "version": 3
   },
   "file_extension": ".py",
   "mimetype": "text/x-python",
   "name": "python",
   "nbconvert_exporter": "python",
   "pygments_lexer": "ipython3",
   "version": "3.8.8"
  }
 },
 "nbformat": 4,
 "nbformat_minor": 5
}
