{
 "cells": [
  {
   "cell_type": "markdown",
   "id": "14a679cc",
   "metadata": {},
   "source": [
    "8. Посчитать, сколько раз встречается определенная цифра в введенной последовательности чисел. Количество вводимых чисел и цифра, которую необходимо посчитать, задаются вводом с клавиатуры."
   ]
  },
  {
   "cell_type": "code",
   "execution_count": 2,
   "id": "bff729d7",
   "metadata": {},
   "outputs": [
    {
     "name": "stdout",
     "output_type": "stream",
     "text": [
      "Введите последовательность: 3095746712394\n",
      "Введите цифру для поиска: 3\n",
      "Цифра встречается 3 в последовательности 3095746712394: 2 раз(а)\n"
     ]
    }
   ],
   "source": [
    "user_range = input('Введите последовательность: ')\n",
    "user_patten = input('Введите цифру для поиска: ')\n",
    "count = 0\n",
    "\n",
    "for i in user_range:\n",
    "    if i == user_patten:\n",
    "        count += 1\n",
    "\n",
    "print(f'Цифра встречается {user_patten} в последовательности {user_range}: \\\n",
    "{count} раз(а)')"
   ]
  }
 ],
 "metadata": {
  "kernelspec": {
   "display_name": "Python 3",
   "language": "python",
   "name": "python3"
  },
  "language_info": {
   "codemirror_mode": {
    "name": "ipython",
    "version": 3
   },
   "file_extension": ".py",
   "mimetype": "text/x-python",
   "name": "python",
   "nbconvert_exporter": "python",
   "pygments_lexer": "ipython3",
   "version": "3.8.8"
  }
 },
 "nbformat": 4,
 "nbformat_minor": 5
}
