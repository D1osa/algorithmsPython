{
 "cells": [
  {
   "cell_type": "markdown",
   "id": "43346ffc",
   "metadata": {},
   "source": [
    "6. В программе генерируется случайное целое число от 0 до 100. Пользователь должен его отгадать не более чем за 10 попыток. После каждой неудачной попытки должно сообщаться, больше или меньше введенное пользователем число, чем то, что загадано. Если за 10 попыток число не отгадано, вывести ответ."
   ]
  },
  {
   "cell_type": "code",
   "execution_count": 2,
   "id": "fc1c1588",
   "metadata": {},
   "outputs": [],
   "source": [
    "import random"
   ]
  },
  {
   "cell_type": "code",
   "execution_count": 3,
   "id": "9da53b27",
   "metadata": {},
   "outputs": [],
   "source": [
    "number = random.randint(1, 100)"
   ]
  },
  {
   "cell_type": "code",
   "execution_count": null,
   "id": "380394d5",
   "metadata": {},
   "outputs": [
    {
     "name": "stdout",
     "output_type": "stream",
     "text": [
      "Попытка № 1\n"
     ]
    }
   ],
   "source": [
    "user_number = None\n",
    "count = 0\n",
    "max_count = 10\n",
    "while number != user_number:\n",
    "    count += 1\n",
    "    if count > max_count:\n",
    "        print('Вы превысили допустимое количество попыток!')\n",
    "        print(f'Загаданное число: {number}')\n",
    "        break\n",
    "    print(f'Попытка № {count}')\n",
    "    user_number = int(input('Введите число: '))\n",
    "    if number < user_number:\n",
    "        print('Ваше число больше загаданного')\n",
    "    elif number > user_number:\n",
    "        print('Ваше число меньше загаданного')\n",
    "        \n",
    "else:\n",
    "    print('Победа!')\n",
    "    "
   ]
  }
 ],
 "metadata": {
  "kernelspec": {
   "display_name": "Python 3",
   "language": "python",
   "name": "python3"
  },
  "language_info": {
   "codemirror_mode": {
    "name": "ipython",
    "version": 3
   },
   "file_extension": ".py",
   "mimetype": "text/x-python",
   "name": "python",
   "nbconvert_exporter": "python",
   "pygments_lexer": "ipython3",
   "version": "3.8.8"
  }
 },
 "nbformat": 4,
 "nbformat_minor": 5
}
