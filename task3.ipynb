{
 "cells": [
  {
   "cell_type": "markdown",
   "id": "ff7c689e",
   "metadata": {},
   "source": [
    "3. В массиве случайных целых чисел поменять местами минимальный и максимальный элементы."
   ]
  },
  {
   "cell_type": "code",
   "execution_count": 1,
   "id": "1fe1b9c4",
   "metadata": {},
   "outputs": [
    {
     "name": "stdout",
     "output_type": "stream",
     "text": [
      "[92, 53, 48, 88, 62, 98, 98, 43, 10, 61]\n",
      "Массив после перестановки элементов 8 и 5: [92, 53, 48, 88, 62, 10, 98, 43, 98, 61]\n"
     ]
    }
   ],
   "source": [
    "import random\n",
    "a = [random.randint(0, 99) for i in range(10)]\n",
    "print(a)\n",
    "min_a = a[0]\n",
    "max_a = a[0]\n",
    "for i in a:\n",
    "    if i < min_a:\n",
    "        min_a = i\n",
    "    elif i > max_a:\n",
    "        max_a = i\n",
    "min_index = a.index(min_a)\n",
    "max_index = a.index(max_a)\n",
    "a[min_index], a[max_index] = a[max_index], a[min_index]\n",
    "print(f'Массив после перестановки элементов {min_index} и {max_index}: {a}')"
   ]
  }
 ],
 "metadata": {
  "kernelspec": {
   "display_name": "Python 3",
   "language": "python",
   "name": "python3"
  },
  "language_info": {
   "codemirror_mode": {
    "name": "ipython",
    "version": 3
   },
   "file_extension": ".py",
   "mimetype": "text/x-python",
   "name": "python",
   "nbconvert_exporter": "python",
   "pygments_lexer": "ipython3",
   "version": "3.8.8"
  }
 },
 "nbformat": 4,
 "nbformat_minor": 5
}
