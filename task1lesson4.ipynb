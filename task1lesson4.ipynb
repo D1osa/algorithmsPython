{
 "cells": [
  {
   "cell_type": "markdown",
   "id": "084e4527",
   "metadata": {},
   "source": [
    "Определить, какое число в массиве встречается чаще всего."
   ]
  },
  {
   "cell_type": "code",
   "execution_count": 19,
   "id": "a19f4fcd",
   "metadata": {},
   "outputs": [
    {
     "name": "stdout",
     "output_type": "stream",
     "text": [
      "В списке \n",
      "[9, 10, 8, 3, 8, 3, 10, 6, 5, 8] \n",
      "чаще всего встречается число: 8 (3 раз)\n"
     ]
    }
   ],
   "source": [
    "import random\n",
    "\n",
    "#1\n",
    "num_list = [random.randint(1, 10) for _ in range(10)]\n",
    "d = dict.fromkeys(num_list, 0)     \n",
    "\n",
    "for num in num_list:\n",
    "    d[num] += 1\n",
    "\n",
    "max_num = 0\n",
    "for key in d:\n",
    "    if d[key] > max_num:\n",
    "        max_key = key\n",
    "        max_num = d[key]\n",
    "\n",
    "print(f'В списке \\n{num_list} \\nчаще всего встречается число: {max_key} ({max_num} раз)')\n",
    "\n",
    "#100 loops, best of 5: 12.9 nsec per loop (timeit)\n",
    "#  1474 function calls (1447 primitive calls) in 0.008 seconds (cProfile)"
   ]
  },
  {
   "cell_type": "code",
   "execution_count": 20,
   "id": "dd11b26b",
   "metadata": {},
   "outputs": [
    {
     "name": "stdout",
     "output_type": "stream",
     "text": [
      "Дан массив а: [4, 5, 7, 3, 0, 2, 0, 7, 2, 3]\n",
      "2 раз(а) встречается число 7\n"
     ]
    }
   ],
   "source": [
    "#2 мой вариант\n",
    "n = 10\n",
    "a = [random.randint(0, 10) for i in range(n)]\n",
    "print(f'Дан массив а: {a}')\n",
    "num = a[0]\n",
    "max_frq = 1\n",
    "for i in range(n):\n",
    "    frq = 1\n",
    "    for k in range(i+1, n):\n",
    "        if a[i] == a[k]:\n",
    "            frq += 1\n",
    "    if frq > max_frq:\n",
    "        max_frq = frq\n",
    "        num = a[i]\n",
    "\n",
    "if max_frq > 1:\n",
    "    print(max_frq, 'раз(а) встречается число', num)\n",
    "else:\n",
    "    print('Все элементы уникальны')\n",
    "    \n",
    "#100 loops, best of 5: 23.7 nsec per loop (timeit)\n",
    "# 1474 function calls (1447 primitive calls) in 0.014 seconds (cProfile)\n"
   ]
  },
  {
   "cell_type": "code",
   "execution_count": 21,
   "id": "cecb603b",
   "metadata": {},
   "outputs": [
    {
     "name": "stdout",
     "output_type": "stream",
     "text": [
      "Массив: [4, 3, 4, 2, 5, 1, 4, 4, 0, 4]\n",
      "Число 4, встречается 1 раза\n"
     ]
    }
   ],
   "source": [
    "#3\n",
    "r = [random.randint(0, 10) for _ in range(10)]\n",
    "print(f'Массив: {r}')\n",
    "\n",
    "max_index = 0\n",
    "for i in r:\n",
    "    if r.count(max_index) < r.count(i):\n",
    "        max_index = r.index(i)\n",
    "\n",
    "print(f'Число {r[max_index]}, встречается {r.count(max_index)} раза')\n",
    "\n",
    "#100 loops, best of 5: 12.9 nsec per loop (timeit)\n",
    "# 1492 function calls (1465 primitive calls) in 0.008 seconds (cProfile)"
   ]
  },
  {
   "cell_type": "markdown",
   "id": "bba23e2c",
   "metadata": {},
   "source": [
    "Очевидно, мой вариант кода самый долгий по времени выполнения =("
   ]
  }
 ],
 "metadata": {
  "kernelspec": {
   "display_name": "Python 3",
   "language": "python",
   "name": "python3"
  },
  "language_info": {
   "codemirror_mode": {
    "name": "ipython",
    "version": 3
   },
   "file_extension": ".py",
   "mimetype": "text/x-python",
   "name": "python",
   "nbconvert_exporter": "python",
   "pygments_lexer": "ipython3",
   "version": "3.8.8"
  }
 },
 "nbformat": 4,
 "nbformat_minor": 5
}
