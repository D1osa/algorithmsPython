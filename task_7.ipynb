{
 "cells": [
  {
   "cell_type": "markdown",
   "id": "1927ec74",
   "metadata": {},
   "source": [
    "7. Определить, является ли год, который ввел пользователь, високосным или не високосным."
   ]
  },
  {
   "cell_type": "code",
   "execution_count": 31,
   "id": "39afd250",
   "metadata": {},
   "outputs": [
    {
     "name": "stdout",
     "output_type": "stream",
     "text": [
      "Введите год: 2022\n",
      "Не високосный год\n"
     ]
    }
   ],
   "source": [
    "year = int(input('Введите год: '))\n",
    " \n",
    "if year % 4 != 0 or (year % 100 == 0 and year % 400 != 0):\n",
    "    print(\"Не високосный год\")\n",
    "else:\n",
    "    print(\"Високосный год\")"
   ]
  }
 ],
 "metadata": {
  "kernelspec": {
   "display_name": "Python 3",
   "language": "python",
   "name": "python3"
  },
  "language_info": {
   "codemirror_mode": {
    "name": "ipython",
    "version": 3
   },
   "file_extension": ".py",
   "mimetype": "text/x-python",
   "name": "python",
   "nbconvert_exporter": "python",
   "pygments_lexer": "ipython3",
   "version": "3.8.8"
  }
 },
 "nbformat": 4,
 "nbformat_minor": 5
}
