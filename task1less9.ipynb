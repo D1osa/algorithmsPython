{
 "cells": [
  {
   "cell_type": "markdown",
   "id": "0b46d87a",
   "metadata": {},
   "source": [
    "Определение количества различных подстрок с использованием хеш-функции. Пусть на вход функции дана строка. Требуется вернуть количество различных подстрок в этой строке."
   ]
  },
  {
   "cell_type": "code",
   "execution_count": 110,
   "id": "80eaa03b",
   "metadata": {},
   "outputs": [
    {
     "name": "stdout",
     "output_type": "stream",
     "text": [
      "Введите текст: Welcome to the black parade\n",
      "Кол-во уникальных подстрок: 266\n",
      "{'eblackp', 'Welcometotheblac', 'etotheblackpara', 'eb', 'tot', 'heb', 'lackpar', 'kpa', 'metothebl', 'eblack', 'Welcometotheb', 'ade', 'ack', 'elcometotheb', 'metotheblack', 'etot', 'ometothe', 'ackparad', 'otheblackpar', 'lcometotheblackparade', 'otheblac', 'heblackpara', 'Welcomet', 'parad', 'cometo', 'l', 'elcometotheblackpa', 'lac', 'Welcometo', 'metotheblackparad', 'the', 'Welc', 'metoth', 'metotheb', 'otheblack', 'ackpar', 'metot', 'blackp', 'elcomet', 'pa', 'par', 'para', 'comet', 'othebl', 'othebla', 'heblackp', 'eblackpara', 'heblackparade', 'totheblackparade', 'Welcometotheblack', 'elcometo', 'o', 'theb', 'elcometotheblackparade', 'elcometotheblackp', 'totheblackpar', 'ackp', 'otheblackpara', 'etothebla', 'rade', 'elcometotheblackparad', 'lcometotheblackp', 'elcometothebl', 'ome', 'Welcometotheblackparad', 'lack', 'cometothebla', 'etotheblackpar', 'elcome', 'othe', 'metotheblackpara', 'etotheblackparade', 'Welcometotheblackpara', 'We', 'ometotheblackpa', 'thebla', 'oth', 'metotheblackp', 'c', 'lcomet', 'etotheb', 'lcometotheb', 'com', 'ck', 'd', 'totheblackpara', 'ckparad', 'eblackparad', 'lackparad', 'eblackparade', 'e', 'etotheblackpa', 'ometotheblac', 'ometotheb', 'ometoth', 'totheblackparad', 'etothe', 'metotheblac', 'bla', 'lcom', 'lcometotheblackpa', 'omet', 'om', 'totheblackp', 'totheblackpa', 'come', 'cometothe', 'cometotheblackparad', 'thebl', 'blac', 'ometothebl', 'elcometotheblackpar', 'la', 'Welco', 'bl', 'eblac', 'lcometothebla', 'ara', 'ometo', 'totheblac', 'lcome', 'elc', 'parade', 'h', 'cometotheblackpar', 'eblackpa', 'lc', 'blackpa', 'heblackpa', 'totheb', 'kparad', 't', 'th', 'cometoth', 'ackparade', 'lackp', 'theblackparad', 'theblackparade', 'otheblackparad', 'theblackpara', 'cometotheblackp', 'lcometot', 'Welcometothe', 'cometotheblac', 'hebl', 'a', 'ackpa', 'ometot', 'Welcometothebla', 'etotheblac', 'ckpara', 'otheblackp', 'cometotheblackpa', 'theblackpa', 'kpara', 'Welcometothebl', 'totheblack', 'ckp', 'lcometotheblac', 'ckpar', 'ad', 'Welcometoth', 'eto', 'me', 'k', 'ckpa', 'ckparade', 'co', 'eblackpar', 'ometothebla', 'ometotheblackparade', 'blackparad', 'ometotheblack', 'tothe', 'otheblackparade', 'ot', 'theblac', 'et', 'cometotheblackparade', 'etotheblack', 'ometotheblackparad', 'etothebl', 'Welcometotheblackpar', 'el', 'etoth', 'cometotheblack', 'tothebla', 'cometotheb', 'lackpara', 'arade', 'metotheblackpar', 'm', 'Welcom', 'blackparade', 'elcometotheblack', 'ometotheblackpar', 'theblack', 'etotheblackp', 'lcometotheblackpara', 'elcometothebla', 'lackparade', 'Wel', 'ar', 'he', 'otheb', 'lackpa', 'kpar', 'lcometothe', 'kp', 'ebl', 'Welcome', 'Welcometotheblackpa', 'b', 'blackpar', 'lcometotheblack', 'p', 'ac', 'meto', 'tothebl', 'heblackpar', 'W', 'lco', 'rad', 'Welcometot', 'etotheblackparad', 'metothe', 'toth', 'otheblackpa', 'metotheblackpa', 'lcometothebl', 'elcometot', 'lcometoth', 'metotheblackparade', 'met', 'theblackpar', 'ra', 'kparade', 'ebla', 'cometothebl', 'lcometotheblackpar', 'cometotheblackpara', 'de', 'ackpara', 'to', 'cometot', 'lcometo', 'heblack', 'elcom', 'blackpara', 'metothebla', 'elcometothe', 'elcometotheblac', 'Welcometotheblackp', 'heblac', 'heblackparad', 'ometotheblackp', 'theblackp', 'r', 'elco', 'elcometoth', 'elcometotheblackpara', 'arad', 'black', 'lcometotheblackparad', 'ometotheblackpara', 'hebla'}\n"
     ]
    }
   ],
   "source": [
    "import hashlib\n",
    "\n",
    "def Rabin_Karp(s:str, subs: str)-> int:\n",
    "    assert len(s) > 0 and len(subs) > 0, 'Строки не могут быть пустыми'\n",
    "    assert len(s) >= len(subs), 'Подстрока длиннее строки'\n",
    "\n",
    "    len_sub = len(subs)\n",
    "    h_subs = hashlib.sha1(subs.encode('utf-8')).hexdigest()\n",
    "\n",
    "    for i in range(len(s) - len_sub + 1):\n",
    "        if h_subs == hashlib.sha1(s[i:i + len_sub].encode('utf-8')).hexdigest():\n",
    "\n",
    "            if s[i:i + len_sub] == subs:\n",
    "                return i\n",
    "    return -1\n",
    "\n",
    "def main():\n",
    "    s_1 = input('Введите строку: ')\n",
    "    s_2 = input('Введите подстроку для поиска: ')\n",
    "    print(Rabin_Karp(s_1, s_2))\n",
    "\n",
    "def task(s:str):\n",
    "    len_subs = 1\n",
    "    result_set = set()\n",
    "    for z in range(1, len(s)):\n",
    "        for j in range (0,len(s)-len_subs+1):\n",
    "            subs=s[j:j+len_subs]\n",
    "            pass\n",
    "            len_sub = len(subs)\n",
    "            h_subs = hashlib.sha1(subs.encode('utf-8')).hexdigest()\n",
    "\n",
    "            for i in range(len(s) - len_sub + 1):\n",
    "                if h_subs == hashlib.sha1(s[i:i + len_sub].encode('utf-8')).hexdigest():\n",
    "\n",
    "                    if s[i:i + len_sub] == subs:\n",
    "                        result_set.add(subs)\n",
    "                       \n",
    "        len_subs+=1\n",
    "    print(f'Кол-во уникальных подстрок: {len(result_set)}')\n",
    "    print(result_set)\n",
    "\n",
    "\n",
    "if __name__ == \"__main__\":\n",
    "    \n",
    "    str = input(\"Введите текст: \")\n",
    "    task(str.replace(\" \",\"\"))"
   ]
  },
  {
   "cell_type": "code",
   "execution_count": null,
   "id": "acae02ee",
   "metadata": {},
   "outputs": [],
   "source": []
  }
 ],
 "metadata": {
  "kernelspec": {
   "display_name": "Python 3",
   "language": "python",
   "name": "python3"
  },
  "language_info": {
   "codemirror_mode": {
    "name": "ipython",
    "version": 3
   },
   "file_extension": ".py",
   "mimetype": "text/x-python",
   "name": "python",
   "nbconvert_exporter": "python",
   "pygments_lexer": "ipython3",
   "version": "3.8.8"
  }
 },
 "nbformat": 4,
 "nbformat_minor": 5
}
