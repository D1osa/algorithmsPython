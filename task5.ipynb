{
 "cells": [
  {
   "cell_type": "markdown",
   "id": "7a74c92b",
   "metadata": {},
   "source": [
    "5. В массиве найти максимальный отрицательный элемент. Вывести на экран его значение и позицию в массиве."
   ]
  },
  {
   "cell_type": "code",
   "execution_count": 1,
   "id": "1c554f02",
   "metadata": {},
   "outputs": [
    {
     "name": "stdout",
     "output_type": "stream",
     "text": [
      "Массив: [-23, 60, 82, -19, 38, 84, 44, -57, -47, -49]\n",
      "В массиве максимальный отрицательный элемент: -57. Находится в массиве на позиции 7\n"
     ]
    }
   ],
   "source": [
    "import random\n",
    "\n",
    "r = [random.randint(-100, 100) for i in range(10)]\n",
    "print(f'Массив: {r}')\n",
    "\n",
    "min_index = 0\n",
    "\n",
    "for i in r:\n",
    "    if r[min_index] > i:\n",
    "        min_index = r.index(i)\n",
    "\n",
    "if r[min_index] >= 0:\n",
    "    print(f'В массиве нет отрицательных элементов')\n",
    "else:\n",
    "    print(f'В массиве максимальный отрицательный элемент: {r[min_index]}.',\n",
    "            f'Находится в массиве на позиции {min_index}')"
   ]
  }
 ],
 "metadata": {
  "kernelspec": {
   "display_name": "Python 3",
   "language": "python",
   "name": "python3"
  },
  "language_info": {
   "codemirror_mode": {
    "name": "ipython",
    "version": 3
   },
   "file_extension": ".py",
   "mimetype": "text/x-python",
   "name": "python",
   "nbconvert_exporter": "python",
   "pygments_lexer": "ipython3",
   "version": "3.8.8"
  }
 },
 "nbformat": 4,
 "nbformat_minor": 5
}
