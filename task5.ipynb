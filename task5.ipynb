{
 "cells": [
  {
   "cell_type": "markdown",
   "id": "c6970093",
   "metadata": {},
   "source": [
    "1. В массиве найти максимальный отрицательный элемент. Вывести на экран его значение и позицию в массиве."
   ]
  },
  {
   "cell_type": "code",
   "execution_count": 1,
   "id": "7588471b",
   "metadata": {},
   "outputs": [
    {
     "name": "stdout",
     "output_type": "stream",
     "text": [
      "[33, -9, 70, -54, -62, 62, 6, -33, 96, 67]\n",
      "В массиве максимальный отрицательный элемент: -9. Находится в массиве на позиции 1\n"
     ]
    }
   ],
   "source": [
    "import random\n",
    "n = 10\n",
    "list_1 = [random.randint(-100, 100) for _ in range(n)]\n",
    "print(list_1)\n",
    "i = 0\n",
    "index = -1\n",
    "while i < n:\n",
    "    if list_1[i] < 0 and index == -1:\n",
    "        index = i\n",
    "    elif list_1[i] < 0 and list_1[i] > list_1[index]:\n",
    "        index = i\n",
    "    i += 1\n",
    "print(f'В массиве максимальный отрицательный элемент: {list_1[index]}.',\n",
    "            f'Находится в массиве на позиции {index}')"
   ]
  }
 ],
 "metadata": {
  "kernelspec": {
   "display_name": "Python 3",
   "language": "python",
   "name": "python3"
  },
  "language_info": {
   "codemirror_mode": {
    "name": "ipython",
    "version": 3
   },
   "file_extension": ".py",
   "mimetype": "text/x-python",
   "name": "python",
   "nbconvert_exporter": "python",
   "pygments_lexer": "ipython3",
   "version": "3.8.8"
  }
 },
 "nbformat": 4,
 "nbformat_minor": 5
}
